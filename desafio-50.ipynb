{
 "cells": [
  {
   "cell_type": "code",
   "execution_count": 12,
   "metadata": {},
   "outputs": [
    {
     "name": "stdout",
     "output_type": "stream",
     "text": [
      "Amor da minha vida\n",
      "Daqui até a eternidade\n",
      "Nossos destinos foram traçados\n",
      "Na maternidade\n",
      "Paixão cruel, desenfreada\n",
      "Te trago mil rosas roubadas\n",
      "Pra desculpar minhas mentiras\n",
      "Minhas mancadas\n",
      "Exagerado\n",
      "Jogado aos teus pés\n",
      "Eu sou mesmo exagerado\n",
      "Adoro um amor inventado\n",
      "Eu nunca mais vou respirar\n",
      "Se você não me notar\n",
      "Eu posso até morrer de fome\n",
      "Se você não me amar\n",
      "Por você eu largo tudo\n",
      "Vou mendigar, roubar, matar\n",
      "Até nas coisas mais banais\n",
      "Pra mim é tudo ou nunca mais\n",
      "Exagerado\n",
      "Jogado aos teus pés\n",
      "Eu sou mesmo exagerado\n",
      "Adoro um amor inventado\n",
      "E por você eu largo tudo\n",
      "Carreira, dinheiro, canudo\n",
      "Até nas coisas mais banais\n",
      "Pra mim é tudo ou nunca mais\n",
      "Exagerado\n",
      "Jogado aos teus pés\n",
      "Eu sou mesmo exagerado\n",
      "Adoro um amor inventado\n",
      "Jogado aos teus pés\n",
      "Com mil rosas roubadas, exagerado\n",
      "Eu adoro um amor inventado\n",
      "Jogado aos teus pés, baby, baby\n",
      "Eu sou mesmo exagerado\n",
      "Adoro um amor inventado\n"
     ]
    }
   ],
   "source": [
    "arquivo = open(\"exagerado_letra.txt\", \"r\", encoding=\"utf-8\")\n",
    "\n",
    "\n",
    "texto = arquivo.read()\n",
    "print(texto)  \n",
    "\n",
    "\n",
    "arquivo.close()"
   ]
  },
  {
   "cell_type": "markdown",
   "metadata": {},
   "source": [
    "1 -  Número de vogais "
   ]
  },
  {
   "cell_type": "code",
   "execution_count": 14,
   "metadata": {},
   "outputs": [
    {
     "name": "stdout",
     "output_type": "stream",
     "text": [
      "Vogal 'a': 109 letras\n",
      "Vogal 'á': 0 letras\n",
      "Vogal 'à': 0 letras\n",
      "Vogal 'ã': 3 letras\n",
      "Vogal 'â': 0 letras\n",
      "Vogal 'e': 64 letras\n",
      "Vogal 'é': 11 letras\n",
      "Vogal 'ê': 4 letras\n",
      "Vogal 'i': 33 letras\n",
      "Vogal 'í': 0 letras\n",
      "Vogal 'o': 92 letras\n",
      "Vogal 'ó': 0 letras\n",
      "Vogal 'ô': 0 letras\n",
      "Vogal 'õ': 0 letras\n",
      "Vogal 'u': 41 letras\n",
      "Vogal 'ú': 0 letras\n"
     ]
    }
   ],
   "source": [
    "vogais = ['a', 'á', 'à', 'ã', 'â', 'e', 'é', 'ê', 'i', 'í', 'o', 'ó', 'ô', 'õ', 'u', 'ú']\n",
    "\n",
    "contagem_vogais = {vogal: 0 for vogal in vogais}\n",
    "\n",
    "texto = texto.lower()\n",
    "\n",
    "for letra in texto:\n",
    "    if letra in contagem_vogais:\n",
    "        contagem_vogais[letra] += 1\n",
    "\n",
    "for vogal, contagem in contagem_vogais.items():\n",
    "    print(f\"Vogal '{vogal}': {contagem} letras\")"
   ]
  }
 ],
 "metadata": {
  "kernelspec": {
   "display_name": "Python 3",
   "language": "python",
   "name": "python3"
  },
  "language_info": {
   "codemirror_mode": {
    "name": "ipython",
    "version": 3
   },
   "file_extension": ".py",
   "mimetype": "text/x-python",
   "name": "python",
   "nbconvert_exporter": "python",
   "pygments_lexer": "ipython3",
   "version": "3.12.4"
  }
 },
 "nbformat": 4,
 "nbformat_minor": 2
}
